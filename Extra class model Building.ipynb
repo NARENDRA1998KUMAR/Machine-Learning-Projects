{
 "cells": [
  {
   "cell_type": "code",
   "execution_count": 17,
   "metadata": {},
   "outputs": [],
   "source": [
    "import numpy as np\n",
    "import pandas as pd"
   ]
  },
  {
   "cell_type": "code",
   "execution_count": 25,
   "metadata": {},
   "outputs": [],
   "source": [
    "data=pd.read_csv('Advertising.csv',index_col=0)"
   ]
  },
  {
   "cell_type": "code",
   "execution_count": 26,
   "metadata": {},
   "outputs": [
    {
     "data": {
      "text/html": [
       "<div>\n",
       "<style scoped>\n",
       "    .dataframe tbody tr th:only-of-type {\n",
       "        vertical-align: middle;\n",
       "    }\n",
       "\n",
       "    .dataframe tbody tr th {\n",
       "        vertical-align: top;\n",
       "    }\n",
       "\n",
       "    .dataframe thead th {\n",
       "        text-align: right;\n",
       "    }\n",
       "</style>\n",
       "<table border=\"1\" class=\"dataframe\">\n",
       "  <thead>\n",
       "    <tr style=\"text-align: right;\">\n",
       "      <th></th>\n",
       "      <th>TV</th>\n",
       "      <th>Radio</th>\n",
       "      <th>Newspaper</th>\n",
       "      <th>Sales</th>\n",
       "    </tr>\n",
       "  </thead>\n",
       "  <tbody>\n",
       "    <tr>\n",
       "      <th>1</th>\n",
       "      <td>230.1</td>\n",
       "      <td>37.8</td>\n",
       "      <td>69.2</td>\n",
       "      <td>22.1</td>\n",
       "    </tr>\n",
       "    <tr>\n",
       "      <th>2</th>\n",
       "      <td>44.5</td>\n",
       "      <td>39.3</td>\n",
       "      <td>45.1</td>\n",
       "      <td>10.4</td>\n",
       "    </tr>\n",
       "    <tr>\n",
       "      <th>3</th>\n",
       "      <td>17.2</td>\n",
       "      <td>45.9</td>\n",
       "      <td>69.3</td>\n",
       "      <td>9.3</td>\n",
       "    </tr>\n",
       "    <tr>\n",
       "      <th>4</th>\n",
       "      <td>151.5</td>\n",
       "      <td>41.3</td>\n",
       "      <td>58.5</td>\n",
       "      <td>18.5</td>\n",
       "    </tr>\n",
       "    <tr>\n",
       "      <th>5</th>\n",
       "      <td>180.8</td>\n",
       "      <td>10.8</td>\n",
       "      <td>58.4</td>\n",
       "      <td>12.9</td>\n",
       "    </tr>\n",
       "  </tbody>\n",
       "</table>\n",
       "</div>"
      ],
      "text/plain": [
       "      TV  Radio  Newspaper  Sales\n",
       "1  230.1   37.8       69.2   22.1\n",
       "2   44.5   39.3       45.1   10.4\n",
       "3   17.2   45.9       69.3    9.3\n",
       "4  151.5   41.3       58.5   18.5\n",
       "5  180.8   10.8       58.4   12.9"
      ]
     },
     "execution_count": 26,
     "metadata": {},
     "output_type": "execute_result"
    }
   ],
   "source": [
    "data.head(5)"
   ]
  },
  {
   "cell_type": "code",
   "execution_count": 27,
   "metadata": {},
   "outputs": [],
   "source": [
    "inp=data.drop('Sales',1)"
   ]
  },
  {
   "cell_type": "code",
   "execution_count": 28,
   "metadata": {},
   "outputs": [],
   "source": [
    "out=data['Sales']"
   ]
  },
  {
   "cell_type": "code",
   "execution_count": 29,
   "metadata": {},
   "outputs": [],
   "source": [
    "import statsmodels.api as sm"
   ]
  },
  {
   "cell_type": "code",
   "execution_count": 33,
   "metadata": {},
   "outputs": [],
   "source": [
    "inp_c=sm.add_constant(inp)"
   ]
  },
  {
   "cell_type": "code",
   "execution_count": 32,
   "metadata": {},
   "outputs": [
    {
     "data": {
      "text/html": [
       "<table class=\"simpletable\">\n",
       "<caption>OLS Regression Results</caption>\n",
       "<tr>\n",
       "  <th>Dep. Variable:</th>          <td>Sales</td>      <th>  R-squared:         </th> <td>   0.897</td>\n",
       "</tr>\n",
       "<tr>\n",
       "  <th>Model:</th>                   <td>OLS</td>       <th>  Adj. R-squared:    </th> <td>   0.896</td>\n",
       "</tr>\n",
       "<tr>\n",
       "  <th>Method:</th>             <td>Least Squares</td>  <th>  F-statistic:       </th> <td>   570.3</td>\n",
       "</tr>\n",
       "<tr>\n",
       "  <th>Date:</th>             <td>Fri, 20 Dec 2019</td> <th>  Prob (F-statistic):</th> <td>1.58e-96</td>\n",
       "</tr>\n",
       "<tr>\n",
       "  <th>Time:</th>                 <td>14:49:16</td>     <th>  Log-Likelihood:    </th> <td> -386.18</td>\n",
       "</tr>\n",
       "<tr>\n",
       "  <th>No. Observations:</th>      <td>   200</td>      <th>  AIC:               </th> <td>   780.4</td>\n",
       "</tr>\n",
       "<tr>\n",
       "  <th>Df Residuals:</th>          <td>   196</td>      <th>  BIC:               </th> <td>   793.6</td>\n",
       "</tr>\n",
       "<tr>\n",
       "  <th>Df Model:</th>              <td>     3</td>      <th>                     </th>     <td> </td>   \n",
       "</tr>\n",
       "<tr>\n",
       "  <th>Covariance Type:</th>      <td>nonrobust</td>    <th>                     </th>     <td> </td>   \n",
       "</tr>\n",
       "</table>\n",
       "<table class=\"simpletable\">\n",
       "<tr>\n",
       "      <td></td>         <th>coef</th>     <th>std err</th>      <th>t</th>      <th>P>|t|</th>  <th>[0.025</th>    <th>0.975]</th>  \n",
       "</tr>\n",
       "<tr>\n",
       "  <th>const</th>     <td>    2.9389</td> <td>    0.312</td> <td>    9.422</td> <td> 0.000</td> <td>    2.324</td> <td>    3.554</td>\n",
       "</tr>\n",
       "<tr>\n",
       "  <th>TV</th>        <td>    0.0458</td> <td>    0.001</td> <td>   32.809</td> <td> 0.000</td> <td>    0.043</td> <td>    0.049</td>\n",
       "</tr>\n",
       "<tr>\n",
       "  <th>Radio</th>     <td>    0.1885</td> <td>    0.009</td> <td>   21.893</td> <td> 0.000</td> <td>    0.172</td> <td>    0.206</td>\n",
       "</tr>\n",
       "<tr>\n",
       "  <th>Newspaper</th> <td>   -0.0010</td> <td>    0.006</td> <td>   -0.177</td> <td> 0.860</td> <td>   -0.013</td> <td>    0.011</td>\n",
       "</tr>\n",
       "</table>\n",
       "<table class=\"simpletable\">\n",
       "<tr>\n",
       "  <th>Omnibus:</th>       <td>60.414</td> <th>  Durbin-Watson:     </th> <td>   2.084</td>\n",
       "</tr>\n",
       "<tr>\n",
       "  <th>Prob(Omnibus):</th> <td> 0.000</td> <th>  Jarque-Bera (JB):  </th> <td> 151.241</td>\n",
       "</tr>\n",
       "<tr>\n",
       "  <th>Skew:</th>          <td>-1.327</td> <th>  Prob(JB):          </th> <td>1.44e-33</td>\n",
       "</tr>\n",
       "<tr>\n",
       "  <th>Kurtosis:</th>      <td> 6.332</td> <th>  Cond. No.          </th> <td>    454.</td>\n",
       "</tr>\n",
       "</table><br/><br/>Warnings:<br/>[1] Standard Errors assume that the covariance matrix of the errors is correctly specified."
      ],
      "text/plain": [
       "<class 'statsmodels.iolib.summary.Summary'>\n",
       "\"\"\"\n",
       "                            OLS Regression Results                            \n",
       "==============================================================================\n",
       "Dep. Variable:                  Sales   R-squared:                       0.897\n",
       "Model:                            OLS   Adj. R-squared:                  0.896\n",
       "Method:                 Least Squares   F-statistic:                     570.3\n",
       "Date:                Fri, 20 Dec 2019   Prob (F-statistic):           1.58e-96\n",
       "Time:                        14:49:16   Log-Likelihood:                -386.18\n",
       "No. Observations:                 200   AIC:                             780.4\n",
       "Df Residuals:                     196   BIC:                             793.6\n",
       "Df Model:                           3                                         \n",
       "Covariance Type:            nonrobust                                         \n",
       "==============================================================================\n",
       "                 coef    std err          t      P>|t|      [0.025      0.975]\n",
       "------------------------------------------------------------------------------\n",
       "const          2.9389      0.312      9.422      0.000       2.324       3.554\n",
       "TV             0.0458      0.001     32.809      0.000       0.043       0.049\n",
       "Radio          0.1885      0.009     21.893      0.000       0.172       0.206\n",
       "Newspaper     -0.0010      0.006     -0.177      0.860      -0.013       0.011\n",
       "==============================================================================\n",
       "Omnibus:                       60.414   Durbin-Watson:                   2.084\n",
       "Prob(Omnibus):                  0.000   Jarque-Bera (JB):              151.241\n",
       "Skew:                          -1.327   Prob(JB):                     1.44e-33\n",
       "Kurtosis:                       6.332   Cond. No.                         454.\n",
       "==============================================================================\n",
       "\n",
       "Warnings:\n",
       "[1] Standard Errors assume that the covariance matrix of the errors is correctly specified.\n",
       "\"\"\""
      ]
     },
     "execution_count": 32,
     "metadata": {},
     "output_type": "execute_result"
    }
   ],
   "source": [
    "ols=sm.OLS(out,inp_c)\n",
    "ols_mod=ols.fit()\n",
    "ols_mod.summary()"
   ]
  },
  {
   "cell_type": "code",
   "execution_count": 34,
   "metadata": {},
   "outputs": [],
   "source": [
    "inp_1=inp.drop('Newspaper',1)"
   ]
  },
  {
   "cell_type": "code",
   "execution_count": 36,
   "metadata": {},
   "outputs": [
    {
     "data": {
      "text/html": [
       "<table class=\"simpletable\">\n",
       "<caption>OLS Regression Results</caption>\n",
       "<tr>\n",
       "  <th>Dep. Variable:</th>          <td>Sales</td>      <th>  R-squared:         </th> <td>   0.897</td>\n",
       "</tr>\n",
       "<tr>\n",
       "  <th>Model:</th>                   <td>OLS</td>       <th>  Adj. R-squared:    </th> <td>   0.896</td>\n",
       "</tr>\n",
       "<tr>\n",
       "  <th>Method:</th>             <td>Least Squares</td>  <th>  F-statistic:       </th> <td>   859.6</td>\n",
       "</tr>\n",
       "<tr>\n",
       "  <th>Date:</th>             <td>Fri, 20 Dec 2019</td> <th>  Prob (F-statistic):</th> <td>4.83e-98</td>\n",
       "</tr>\n",
       "<tr>\n",
       "  <th>Time:</th>                 <td>15:06:18</td>     <th>  Log-Likelihood:    </th> <td> -386.20</td>\n",
       "</tr>\n",
       "<tr>\n",
       "  <th>No. Observations:</th>      <td>   200</td>      <th>  AIC:               </th> <td>   778.4</td>\n",
       "</tr>\n",
       "<tr>\n",
       "  <th>Df Residuals:</th>          <td>   197</td>      <th>  BIC:               </th> <td>   788.3</td>\n",
       "</tr>\n",
       "<tr>\n",
       "  <th>Df Model:</th>              <td>     2</td>      <th>                     </th>     <td> </td>   \n",
       "</tr>\n",
       "<tr>\n",
       "  <th>Covariance Type:</th>      <td>nonrobust</td>    <th>                     </th>     <td> </td>   \n",
       "</tr>\n",
       "</table>\n",
       "<table class=\"simpletable\">\n",
       "<tr>\n",
       "    <td></td>       <th>coef</th>     <th>std err</th>      <th>t</th>      <th>P>|t|</th>  <th>[0.025</th>    <th>0.975]</th>  \n",
       "</tr>\n",
       "<tr>\n",
       "  <th>const</th> <td>    2.9211</td> <td>    0.294</td> <td>    9.919</td> <td> 0.000</td> <td>    2.340</td> <td>    3.502</td>\n",
       "</tr>\n",
       "<tr>\n",
       "  <th>TV</th>    <td>    0.0458</td> <td>    0.001</td> <td>   32.909</td> <td> 0.000</td> <td>    0.043</td> <td>    0.048</td>\n",
       "</tr>\n",
       "<tr>\n",
       "  <th>Radio</th> <td>    0.1880</td> <td>    0.008</td> <td>   23.382</td> <td> 0.000</td> <td>    0.172</td> <td>    0.204</td>\n",
       "</tr>\n",
       "</table>\n",
       "<table class=\"simpletable\">\n",
       "<tr>\n",
       "  <th>Omnibus:</th>       <td>60.022</td> <th>  Durbin-Watson:     </th> <td>   2.081</td>\n",
       "</tr>\n",
       "<tr>\n",
       "  <th>Prob(Omnibus):</th> <td> 0.000</td> <th>  Jarque-Bera (JB):  </th> <td> 148.679</td>\n",
       "</tr>\n",
       "<tr>\n",
       "  <th>Skew:</th>          <td>-1.323</td> <th>  Prob(JB):          </th> <td>5.19e-33</td>\n",
       "</tr>\n",
       "<tr>\n",
       "  <th>Kurtosis:</th>      <td> 6.292</td> <th>  Cond. No.          </th> <td>    425.</td>\n",
       "</tr>\n",
       "</table><br/><br/>Warnings:<br/>[1] Standard Errors assume that the covariance matrix of the errors is correctly specified."
      ],
      "text/plain": [
       "<class 'statsmodels.iolib.summary.Summary'>\n",
       "\"\"\"\n",
       "                            OLS Regression Results                            \n",
       "==============================================================================\n",
       "Dep. Variable:                  Sales   R-squared:                       0.897\n",
       "Model:                            OLS   Adj. R-squared:                  0.896\n",
       "Method:                 Least Squares   F-statistic:                     859.6\n",
       "Date:                Fri, 20 Dec 2019   Prob (F-statistic):           4.83e-98\n",
       "Time:                        15:06:18   Log-Likelihood:                -386.20\n",
       "No. Observations:                 200   AIC:                             778.4\n",
       "Df Residuals:                     197   BIC:                             788.3\n",
       "Df Model:                           2                                         \n",
       "Covariance Type:            nonrobust                                         \n",
       "==============================================================================\n",
       "                 coef    std err          t      P>|t|      [0.025      0.975]\n",
       "------------------------------------------------------------------------------\n",
       "const          2.9211      0.294      9.919      0.000       2.340       3.502\n",
       "TV             0.0458      0.001     32.909      0.000       0.043       0.048\n",
       "Radio          0.1880      0.008     23.382      0.000       0.172       0.204\n",
       "==============================================================================\n",
       "Omnibus:                       60.022   Durbin-Watson:                   2.081\n",
       "Prob(Omnibus):                  0.000   Jarque-Bera (JB):              148.679\n",
       "Skew:                          -1.323   Prob(JB):                     5.19e-33\n",
       "Kurtosis:                       6.292   Cond. No.                         425.\n",
       "==============================================================================\n",
       "\n",
       "Warnings:\n",
       "[1] Standard Errors assume that the covariance matrix of the errors is correctly specified.\n",
       "\"\"\""
      ]
     },
     "execution_count": 36,
     "metadata": {},
     "output_type": "execute_result"
    }
   ],
   "source": [
    "inp_c=sm.add_constant(inp_1)\n",
    "ols=sm.OLS(out,inp_c)\n",
    "ols_mod=ols.fit()\n",
    "ols_mod.summary()"
   ]
  },
  {
   "cell_type": "markdown",
   "metadata": {},
   "source": [
    "### Linearity"
   ]
  },
  {
   "cell_type": "code",
   "execution_count": 37,
   "metadata": {},
   "outputs": [],
   "source": [
    "pred=ols_mod.predict(inp_c)"
   ]
  },
  {
   "cell_type": "code",
   "execution_count": 41,
   "metadata": {},
   "outputs": [],
   "source": [
    "import matplotlib.pyplot  as plt"
   ]
  },
  {
   "cell_type": "code",
   "execution_count": 43,
   "metadata": {},
   "outputs": [],
   "source": [
    "import seaborn as sns\n",
    "%matplotlib inline"
   ]
  },
  {
   "cell_type": "code",
   "execution_count": 44,
   "metadata": {},
   "outputs": [
    {
     "data": {
      "text/plain": [
       "<matplotlib.axes._subplots.AxesSubplot at 0x1db742dee10>"
      ]
     },
     "execution_count": 44,
     "metadata": {},
     "output_type": "execute_result"
    },
    {
     "data": {
      "image/png": "[encoded data removed]",
      "text/plain": [
       "<Figure size 432x288 with 1 Axes>"
      ]
     },
     "metadata": {
      "needs_background": "light"
     },
     "output_type": "display_data"
    }
   ],
   "source": [
    "sns.regplot(out,pred)"
   ]
  },
  {
   "cell_type": "markdown",
   "metadata": {},
   "source": [
    "### Normality"
   ]
  },
  {
   "cell_type": "code",
   "execution_count": 45,
   "metadata": {},
   "outputs": [],
   "source": [
    "from statsmodels.stats.diagnostic import normal_ad"
   ]
  },
  {
   "cell_type": "code",
   "execution_count": 48,
   "metadata": {},
   "outputs": [],
   "source": [
    "res=out-pred   # though we are checking normality for the residuals"
   ]
  },
  {
   "cell_type": "code",
   "execution_count": 49,
   "metadata": {},
   "outputs": [
    {
     "data": {
      "text/plain": [
       "(3.6973801863587994, 2.9579356167375647e-09)"
      ]
     },
     "execution_count": 49,
     "metadata": {},
     "output_type": "execute_result"
    }
   ],
   "source": [
    "normal_ad(res)"
   ]
  },
  {
   "cell_type": "markdown",
   "metadata": {},
   "source": [
    "### Log Transformations"
   ]
  },
  {
   "cell_type": "code",
   "execution_count": 63,
   "metadata": {},
   "outputs": [],
   "source": [
    "inp2=np.power(inp_1,0.7)"
   ]
  },
  {
   "cell_type": "code",
   "execution_count": 64,
   "metadata": {},
   "outputs": [
    {
     "data": {
      "text/html": [
       "<div>\n",
       "<style scoped>\n",
       "    .dataframe tbody tr th:only-of-type {\n",
       "        vertical-align: middle;\n",
       "    }\n",
       "\n",
       "    .dataframe tbody tr th {\n",
       "        vertical-align: top;\n",
       "    }\n",
       "\n",
       "    .dataframe thead th {\n",
       "        text-align: right;\n",
       "    }\n",
       "</style>\n",
       "<table border=\"1\" class=\"dataframe\">\n",
       "  <thead>\n",
       "    <tr style=\"text-align: right;\">\n",
       "      <th></th>\n",
       "      <th>TV</th>\n",
       "      <th>Radio</th>\n",
       "    </tr>\n",
       "  </thead>\n",
       "  <tbody>\n",
       "    <tr>\n",
       "      <th>1</th>\n",
       "      <td>45.013381</td>\n",
       "      <td>12.712889</td>\n",
       "    </tr>\n",
       "    <tr>\n",
       "      <th>2</th>\n",
       "      <td>14.251219</td>\n",
       "      <td>13.063958</td>\n",
       "    </tr>\n",
       "    <tr>\n",
       "      <th>3</th>\n",
       "      <td>7.326051</td>\n",
       "      <td>14.563605</td>\n",
       "    </tr>\n",
       "    <tr>\n",
       "      <th>4</th>\n",
       "      <td>33.596098</td>\n",
       "      <td>13.525865</td>\n",
       "    </tr>\n",
       "    <tr>\n",
       "      <th>5</th>\n",
       "      <td>38.022345</td>\n",
       "      <td>5.289281</td>\n",
       "    </tr>\n",
       "    <tr>\n",
       "      <th>6</th>\n",
       "      <td>4.546356</td>\n",
       "      <td>15.223559</td>\n",
       "    </tr>\n",
       "    <tr>\n",
       "      <th>7</th>\n",
       "      <td>17.051692</td>\n",
       "      <td>11.510964</td>\n",
       "    </tr>\n",
       "    <tr>\n",
       "      <th>8</th>\n",
       "      <td>28.571506</td>\n",
       "      <td>8.027480</td>\n",
       "    </tr>\n",
       "    <tr>\n",
       "      <th>9</th>\n",
       "      <td>4.509713</td>\n",
       "      <td>1.680945</td>\n",
       "    </tr>\n",
       "    <tr>\n",
       "      <th>10</th>\n",
       "      <td>40.777147</td>\n",
       "      <td>1.952007</td>\n",
       "    </tr>\n",
       "  </tbody>\n",
       "</table>\n",
       "</div>"
      ],
      "text/plain": [
       "           TV      Radio\n",
       "1   45.013381  12.712889\n",
       "2   14.251219  13.063958\n",
       "3    7.326051  14.563605\n",
       "4   33.596098  13.525865\n",
       "5   38.022345   5.289281\n",
       "6    4.546356  15.223559\n",
       "7   17.051692  11.510964\n",
       "8   28.571506   8.027480\n",
       "9    4.509713   1.680945\n",
       "10  40.777147   1.952007"
      ]
     },
     "execution_count": 64,
     "metadata": {},
     "output_type": "execute_result"
    }
   ],
   "source": [
    "inp2.head(10)"
   ]
  },
  {
   "cell_type": "code",
   "execution_count": 65,
   "metadata": {},
   "outputs": [],
   "source": [
    "inp_c=sm.add_constant(inp2)\n",
    "ols=sm.OLS(out,inp_c)\n",
    "ols_mod=ols.fit()\n",
    "ols_mod.summary()\n",
    "pred=ols_mod.predict(inp_c)\n",
    "resid=out-pred"
   ]
  },
  {
   "cell_type": "code",
   "execution_count": 66,
   "metadata": {},
   "outputs": [
    {
     "data": {
      "text/plain": [
       "(0.6535837390334223, 0.0868297590334882)"
      ]
     },
     "execution_count": 66,
     "metadata": {},
     "output_type": "execute_result"
    }
   ],
   "source": [
    "normal_ad(resid)"
   ]
  },
  {
   "cell_type": "markdown",
   "metadata": {},
   "source": [
    "### Multicolinearity"
   ]
  },
  {
   "cell_type": "code",
   "execution_count": 67,
   "metadata": {},
   "outputs": [
    {
     "data": {
      "text/plain": [
       "<seaborn.axisgrid.PairGrid at 0x1db745d9f98>"
      ]
     },
     "execution_count": 67,
     "metadata": {},
     "output_type": "execute_result"
    },
    {
     "data": {
      "image/png": "[encoded data removed]",
      "text/plain": [
       "<Figure size 720x720 with 20 Axes>"
      ]
     },
     "metadata": {
      "needs_background": "light"
     },
     "output_type": "display_data"
    }
   ],
   "source": [
    "sns.pairplot(data)"
   ]
  },
  {
   "cell_type": "code",
   "execution_count": 78,
   "metadata": {},
   "outputs": [],
   "source": [
    "from statsmodels.stats.outliers_influence import variance_inflation_factor"
   ]
  },
  {
   "cell_type": "code",
   "execution_count": 79,
   "metadata": {},
   "outputs": [],
   "source": [
    "import pandas as pd"
   ]
  },
  {
   "cell_type": "code",
   "execution_count": 81,
   "metadata": {},
   "outputs": [],
   "source": [
    "vif=pd.DataFrame()\n",
    "vif['VIF']=[variance_inflation_factor(inp2.values,i) for i in range(inp2.shape[1])]\n",
    "vif['feature_name']=inp2.columns"
   ]
  },
  {
   "cell_type": "code",
   "execution_count": 82,
   "metadata": {},
   "outputs": [
    {
     "data": {
      "text/html": [
       "<div>\n",
       "<style scoped>\n",
       "    .dataframe tbody tr th:only-of-type {\n",
       "        vertical-align: middle;\n",
       "    }\n",
       "\n",
       "    .dataframe tbody tr th {\n",
       "        vertical-align: top;\n",
       "    }\n",
       "\n",
       "    .dataframe thead th {\n",
       "        text-align: right;\n",
       "    }\n",
       "</style>\n",
       "<table border=\"1\" class=\"dataframe\">\n",
       "  <thead>\n",
       "    <tr style=\"text-align: right;\">\n",
       "      <th></th>\n",
       "      <th>VIF</th>\n",
       "      <th>feature_name</th>\n",
       "    </tr>\n",
       "  </thead>\n",
       "  <tbody>\n",
       "    <tr>\n",
       "      <th>0</th>\n",
       "      <td>3.059411</td>\n",
       "      <td>TV</td>\n",
       "    </tr>\n",
       "    <tr>\n",
       "      <th>1</th>\n",
       "      <td>3.059411</td>\n",
       "      <td>Radio</td>\n",
       "    </tr>\n",
       "  </tbody>\n",
       "</table>\n",
       "</div>"
      ],
      "text/plain": [
       "        VIF feature_name\n",
       "0  3.059411           TV\n",
       "1  3.059411        Radio"
      ]
     },
     "execution_count": 82,
     "metadata": {},
     "output_type": "execute_result"
    }
   ],
   "source": [
    "vif"
   ]
  },
  {
   "cell_type": "markdown",
   "metadata": {},
   "source": [
    "### Hetroscedacity"
   ]
  },
  {
   "cell_type": "code",
   "execution_count": 96,
   "metadata": {},
   "outputs": [
    {
     "data": {
      "text/plain": [
       "<matplotlib.axes._subplots.AxesSubplot at 0x1db763b7390>"
      ]
     },
     "execution_count": 96,
     "metadata": {},
     "output_type": "execute_result"
    },
    {
     "data": {
      "image/png": "[encoded data removed]",
      "text/plain": [
       "<Figure size 432x288 with 1 Axes>"
      ]
     },
     "metadata": {
      "needs_background": "light"
     },
     "output_type": "display_data"
    }
   ],
   "source": [
    "sns.residplot(out,resid,color='r')"
   ]
  },
  {
   "cell_type": "code",
   "execution_count": 98,
   "metadata": {},
   "outputs": [],
   "source": [
    "from sklearn.preprocessing import PolynomialFeatures"
   ]
  },
  {
   "cell_type": "code",
   "execution_count": 104,
   "metadata": {},
   "outputs": [],
   "source": [
    "pf=PolynomialFeatures(degree=2,include_bias=False,interaction_only=True)\n",
    "# transforming it\n",
    "inp2_pf=pf.fit_transform(inp2)"
   ]
  },
  {
   "cell_type": "code",
   "execution_count": 105,
   "metadata": {},
   "outputs": [
    {
     "data": {
      "text/plain": [
       "array([[4.50133809e+01, 1.27128891e+01, 5.72250121e+02],\n",
       "       [1.42512188e+01, 1.30639583e+01, 1.86177328e+02],\n",
       "       [7.32605058e+00, 1.45636046e+01, 1.06693704e+02],\n",
       "       [3.35960983e+01, 1.35258646e+01, 4.54416277e+02],\n",
       "       [3.80223450e+01, 5.28928086e+00, 2.01110862e+02],\n",
       "       [4.54635639e+00, 1.52235592e+01, 6.92117257e+01],\n",
       "       [1.70516925e+01, 1.15109639e+01, 1.96281416e+02],\n",
       "       [2.85715057e+01, 8.02748033e+00, 2.29357200e+02],\n",
       "       [4.50971312e+00, 1.68094501e+00, 7.58057977e+00],\n",
       "       [4.07771472e+01, 1.95200688e+00, 7.95972718e+01],\n",
       "       [1.87992716e+01, 3.42294243e+00, 6.43488244e+01],\n",
       "       [4.28827305e+01, 9.25013070e+00, 3.96670862e+02],\n",
       "       [9.19610391e+00, 1.20702143e+01, 1.10998945e+02],\n",
       "       [2.46776176e+01, 4.13589510e+00, 1.02064038e+02],\n",
       "       [4.13894927e+01, 1.15355187e+01, 4.77449268e+02],\n",
       "       [4.01464540e+01, 1.49610772e+01, 6.00634200e+02],\n",
       "       [1.91364240e+01, 1.24290164e+01, 2.37846927e+02],\n",
       "       [5.18235149e+01, 1.31336860e+01, 6.80633774e+02],\n",
       "       [1.94121781e+01, 8.28376372e+00, 1.60805896e+02],\n",
       "       [3.29413902e+01, 9.22313426e+00, 3.03822864e+02],\n",
       "       [4.33987123e+01, 1.02267076e+01, 4.43825941e+02],\n",
       "       [4.60083332e+01, 3.12823322e+00, 1.43924796e+02],\n",
       "       [6.08697828e+00, 6.93390659e+00, 4.22065388e+01],\n",
       "       [4.47666028e+01, 7.23636881e+00, 3.23947648e+02],\n",
       "       [1.80360584e+01, 5.89195446e+00, 1.06267635e+02],\n",
       "       [4.94143868e+01, 2.40351940e+00, 1.18768437e+02],\n",
       "       [3.22494684e+01, 1.06367104e+01, 3.43028255e+02],\n",
       "       [4.63739951e+01, 7.17631560e+00, 3.32794425e+02],\n",
       "       [4.75439503e+01, 1.00711370e+01, 4.78821637e+02],\n",
       "       [1.96862634e+01, 6.96440451e+00, 1.37103101e+02],\n",
       "       [5.32970977e+01, 1.03812704e+01, 5.53291585e+02],\n",
       "       [2.73454931e+01, 7.38557774e+00, 2.01962265e+02],\n",
       "       [2.46244413e+01, 1.32820124e+00, 3.27062135e+01],\n",
       "       [4.97690842e+01, 8.14181063e+00, 4.05210459e+02],\n",
       "       [2.43578166e+01, 1.26558006e+00, 3.08267671e+01],\n",
       "       [5.30165572e+01, 2.68502726e+00, 1.42350902e+02],\n",
       "       [4.99394784e+01, 1.40939224e+01, 7.03843135e+02],\n",
       "       [2.04797392e+01, 1.53323549e+01, 3.14002630e+02],\n",
       "       [1.39358701e+01, 9.96684910e+00, 1.38896714e+02],\n",
       "       [4.47254164e+01, 1.26893374e+01, 5.67535900e+02],\n",
       "       [4.11620996e+01, 8.78644923e+00, 3.61668699e+02],\n",
       "       [3.74611656e+01, 1.16579591e+01, 4.36720736e+02],\n",
       "       [5.33862279e+01, 1.02267076e+01, 5.45965342e+02],\n",
       "       [4.17861485e+01, 4.43604048e+00, 1.85365046e+02],\n",
       "       [9.54490489e+00, 9.70405359e+00, 9.26242685e+01],\n",
       "       [3.71792224e+01, 8.84153688e+00, 3.28721466e+02],\n",
       "       [2.32784849e+01, 4.97673638e+00, 1.15850882e+02],\n",
       "       [4.63469515e+01, 1.35716818e+01, 6.29006077e+02],\n",
       "       [4.46155066e+01, 6.90335108e+00, 3.07996506e+02],\n",
       "       [1.89582516e+01, 5.59409842e+00, 1.06054325e+02],\n",
       "       [4.07771472e+01, 2.20776674e+00, 9.00264291e+01],\n",
       "       [2.51891550e+01, 4.87068298e+00, 1.22688389e+02],\n",
       "       [4.31201318e+01, 1.36174327e+01, 5.87185494e+02],\n",
       "       [3.82869297e+01, 1.46301703e+01, 5.60144304e+02],\n",
       "       [4.93880695e+01, 1.05093230e+01, 5.19035177e+02],\n",
       "       [4.06484835e+01, 1.53323549e+01, 6.23236977e+02],\n",
       "       [4.02092527e+00, 1.03298597e+01, 4.15355940e+01],\n",
       "       [3.11834366e+01, 7.91244784e+00, 2.46737316e+02],\n",
       "       [4.23359612e+01, 1.53757806e+01, 6.50948451e+02],\n",
       "       [4.23219018e+01, 1.06874824e+01, 4.52314579e+02],\n",
       "       [1.62124126e+01, 1.62450479e+00, 2.63371419e+01],\n",
       "       [4.92036802e+01, 1.38452089e+01, 6.81235230e+02],\n",
       "       [4.62657801e+01, 6.81133419e+00, 3.15131689e+02],\n",
       "       [2.55917103e+01, 1.07128296e+01, 2.74159632e+02],\n",
       "       [3.03614063e+01, 1.38678980e+01, 4.21048886e+02],\n",
       "       [1.93728878e+01, 4.76363046e+00, 9.22852786e+01],\n",
       "       [1.11896728e+01, 9.41140743e+00, 1.05310570e+02],\n",
       "       [3.16785855e+01, 6.50066224e+00, 2.05931785e+02],\n",
       "       [4.60083332e+01, 1.01749641e+01, 4.68133139e+02],\n",
       "       [4.31759095e+01, 1.41164393e+01, 6.09490104e+02],\n",
       "       [4.06770905e+01, 1.09649082e+01, 4.46020562e+02],\n",
       "       [2.68177068e+01, 6.43776658e+00, 1.72646137e+02],\n",
       "       [9.99296476e+00, 1.15600512e+01, 1.15519184e+02],\n",
       "       [3.00852755e+01, 3.38152341e+00, 1.01734064e+02],\n",
       "       [4.27008078e+01, 9.41140743e+00, 4.01874700e+02],\n",
       "       [7.23636881e+00, 1.40713902e+01, 1.01825769e+02],\n",
       "       [1.01749641e+01, 1.38958139e+00, 1.41389407e+01],\n",
       "       [2.86214039e+01, 1.04325723e+01, 2.98594865e+02],\n",
       "       [3.25593429e+00, 1.07887178e+01, 3.51273561e+01],\n",
       "       [2.78689491e+01, 4.17391411e+00, 1.16322600e+02],\n",
       "       [2.08048865e+01, 9.96684910e+00, 2.07359164e+02],\n",
       "       [4.63334272e+01, 2.68502726e+00, 1.24406515e+02],\n",
       "       [2.05947481e+01, 8.22710853e+00, 1.69435227e+02],\n",
       "       [1.92548115e+01, 1.42512188e+01, 2.74404531e+02],\n",
       "       [4.27148136e+01, 1.39132285e+01, 5.94300964e+02],\n",
       "       [3.98295120e+01, 7.68019905e+00, 3.05898580e+02],\n",
       "       [2.07858207e+01, 1.01749641e+01, 2.11494979e+02],\n",
       "       [2.69713904e+01, 1.33649772e+01, 3.60472018e+02],\n",
       "       [2.30235608e+01, 9.65112913e+00, 2.22203358e+02],\n",
       "       [2.68177068e+01, 1.49830258e+01, 4.01810393e+02],\n",
       "       [3.08782877e+01, 3.04184623e+00, 9.39270029e+01],\n",
       "       [1.04581827e+01, 1.32820124e+00, 1.38905712e+01],\n",
       "       [4.33012965e+01, 1.16823810e+01, 5.05862243e+02],\n",
       "       [4.78245027e+01, 1.24052353e+01, 5.93274208e+02],\n",
       "       [2.64060230e+01, 6.34292571e+00, 1.67491442e+02],\n",
       "       [3.54070977e+01, 1.12145269e+01, 3.97073850e+02],\n",
       "       [4.04623272e+01, 2.40351940e+00, 9.72519883e+01],\n",
       "       [3.86238745e+01, 8.42468180e+00, 3.25393853e+02],\n",
       "       [5.28888284e+01, 1.37542925e+01, 7.27448418e+02],\n",
       "       [3.10229922e+01, 1.36174327e+01, 4.22453510e+02],\n",
       "       [4.39535895e+01, 2.77605406e+00, 1.22017541e+02],\n",
       "       [5.37421132e+01, 1.23576143e+01, 6.64124309e+02],\n",
       "       [5.16687187e+01, 5.04690304e+00, 2.60767014e+02],\n",
       "       [3.90614847e+01, 7.32605058e+00, 2.86166412e+02],\n",
       "       [4.61168070e+01, 1.18769761e+01, 5.47728216e+02],\n",
       "       [3.14553836e+01, 1.46744755e+01, 4.61591255e+02],\n",
       "       [9.51826969e+00, 5.35765667e+00, 5.09956211e+01],\n",
       "       [2.34054988e+01, 4.30511620e-01, 1.00763392e+01],\n",
       "       [6.05466204e+00, 5.26552882e-01, 3.18809975e+00],\n",
       "       [4.84233270e+01, 1.00190512e+01, 4.85155793e+02],\n",
       "       [4.44228846e+01, 4.36183966e+00, 1.93765500e+02],\n",
       "       [4.65901014e+01, 1.27599366e+01, 5.94486741e+02],\n",
       "       [3.72683558e+01, 6.78054347e+00, 2.52699707e+02],\n",
       "       [4.21671156e+01, 8.31202909e+00, 3.50494292e+02],\n",
       "       [2.11468034e+01, 1.47629142e+01, 3.12188445e+02],\n",
       "       [2.05564424e+01, 1.20461324e+01, 2.47625626e+02],\n",
       "       [3.16626649e+01, 6.43776658e+00, 2.03836846e+02],\n",
       "       [2.08048865e+01, 8.55387680e-01, 1.77962436e+01],\n",
       "       [2.94804898e+01, 1.25002430e+01, 3.68513287e+02],\n",
       "       [7.97005303e+00, 6.96440451e+00, 5.55066732e+01],\n",
       "       [3.19962818e+01, 9.99296476e+00, 3.19737717e+02],\n",
       "       [7.79669409e+00, 8.62028876e+00, 6.72097544e+01],\n",
       "       [4.41747004e+01, 1.84564372e+00, 8.15307584e+01],\n",
       "       [2.90523078e+01, 1.19495973e+01, 3.47163379e+02],\n",
       "       [4.49311861e+01, 1.13878507e+01, 5.11669640e+02],\n",
       "       [2.28224119e+01, 5.62752464e+00, 1.28433685e+02],\n",
       "       [4.21178527e+00, 1.29707390e+01, 5.46299676e+01],\n",
       "       [2.15239541e+01, 0.00000000e+00, 0.00000000e+00],\n",
       "       [4.36626558e+01, 1.52453450e+01, 6.65652250e+02],\n",
       "       [1.74852716e+01, 5.69412337e+00, 9.95632934e+01],\n",
       "       [7.79055913e-01, 1.31336860e+01, 1.02318758e+01],\n",
       "       [4.97166049e+01, 2.10706823e+00, 1.04756279e+02],\n",
       "       [4.43604048e+00, 1.00971366e+01, 4.47913068e+01],\n",
       "       [4.35932634e+01, 1.16823810e+01, 5.09273111e+02],\n",
       "       [1.25002430e+01, 1.29006358e+01, 1.61261082e+02],\n",
       "       [1.50925628e+01, 1.48070486e+01, 2.23476310e+02],\n",
       "       [9.67760687e+00, 1.29940707e+01, 1.25751508e+02],\n",
       "       [5.08267521e+01, 1.05348532e+01, 5.35452374e+02],\n",
       "       [1.39132285e+01, 9.75685464e+00, 1.35749348e+02],\n",
       "       [3.86238745e+01, 1.41164393e+01, 5.45231580e+02],\n",
       "       [2.02295975e+01, 7.26631540e+00, 1.46994636e+02],\n",
       "       [3.99016389e+01, 1.21423370e+01, 4.84499148e+02],\n",
       "       [4.36903995e+01, 1.16090494e+01, 5.07204005e+02],\n",
       "       [2.59222192e+01, 3.38152341e+00, 8.76565913e+01],\n",
       "       [2.44468299e+01, 6.59452017e+00, 1.61215113e+02],\n",
       "       [3.18376035e+01, 1.56721118e+00, 4.98962481e+01],\n",
       "       [4.63739951e+01, 4.02092527e+00, 1.86466369e+02],\n",
       "       [4.67923115e+01, 1.52453450e+01, 7.13364931e+02],\n",
       "       [1.27599366e+01, 1.32957712e+01, 1.69653198e+02],\n",
       "       [1.42960239e+01, 9.73046947e+00, 1.39107024e+02],\n",
       "       [5.17332412e+01, 6.31117700e+00, 3.26497642e+02],\n",
       "       [2.87044850e+01, 4.43604048e+00, 1.27334257e+02],\n",
       "       [4.04623272e+01, 9.06043700e+00, 3.66606367e+02],\n",
       "       [3.66125649e+01, 1.31568934e+01, 4.81707612e+02],\n",
       "       [3.90469316e+01, 8.45274405e+00, 3.30053719e+02],\n",
       "       [2.68502726e+00, 5.56058639e+00, 1.49303261e+01],\n",
       "       [2.40362058e+01, 1.40262792e+01, 3.37138534e+02],\n",
       "       [3.33317618e+01, 1.20160118e+00, 4.00514843e+01],\n",
       "       [5.59409842e+00, 1.25002430e+01, 6.99275898e+01],\n",
       "       [3.04586074e+01, 7.68019905e+00, 2.33928167e+02],\n",
       "       [3.67919130e+01, 7.59232871e+00, 2.79336297e+02],\n",
       "       [2.25468863e+01, 1.22382161e+01, 2.75933668e+02],\n",
       "       [3.91342152e+01, 7.59232871e+00, 2.97119825e+02],\n",
       "       [3.54374473e+01, 1.24765202e+01, 4.42136026e+02],\n",
       "       [2.80704470e+01, 6.56329816e+00, 1.84234713e+02],\n",
       "       [4.56141927e+01, 2.35524040e+00, 1.07432389e+02],\n",
       "       [7.53350571e+00, 1.26657669e+01, 9.54176273e+01],\n",
       "       [4.17720101e+01, 3.17104453e+00, 1.32460904e+02],\n",
       "       [4.29805520e+01, 9.14194075e+00, 3.92925660e+02],\n",
       "       [5.21967907e+01, 5.22052411e+00, 2.72494604e+02],\n",
       "       [1.54624747e+01, 5.56058639e+00, 8.59804266e+01],\n",
       "       [3.55890284e+01, 8.39657942e+00, 2.98826103e+02],\n",
       "       [8.02748033e+00, 8.17028564e+00, 6.55868073e+01],\n",
       "       [3.61775757e+01, 3.94349091e+00, 1.42665941e+02],\n",
       "       [4.39535895e+01, 2.35524040e+00, 1.03521270e+02],\n",
       "       [5.12419996e+01, 1.52235592e+01, 7.80085617e+02],\n",
       "       [4.74904313e+01, 1.08643778e+01, 5.15953989e+02],\n",
       "       [3.64478310e+01, 4.21178527e+00, 1.53510438e+02],\n",
       "       [5.12160890e+01, 1.79146977e+00, 9.17520754e+01],\n",
       "       [3.57554487e+01, 5.01187234e+00, 1.79201744e+02],\n",
       "       [3.43838284e+01, 1.95200688e+00, 6.71174695e+01],\n",
       "       [4.34126212e+01, 3.25593429e+00, 1.41348642e+02],\n",
       "       [1.67809066e+01, 3.38152341e+00, 5.67450287e+01],\n",
       "       [5.26201664e+01, 1.39132285e+01, 7.32116401e+02],\n",
       "       [4.82107772e+01, 8.50874919e+00, 4.10213411e+02],\n",
       "       [4.15171662e+01, 1.43854542e+01, 5.97243294e+02],\n",
       "       [3.17104164e+01, 1.68094501e+00, 5.33034663e+01],\n",
       "       [3.95259649e+01, 1.04837662e+01, 4.14380976e+02],\n",
       "       [5.24150764e+01, 6.31117700e+00, 3.30800825e+02],\n",
       "       [7.76764063e+00, 5.72729772e+00, 4.44875904e+01],\n",
       "       [1.31104611e+01, 1.34799809e+01, 1.76728765e+02],\n",
       "       [2.06330232e+01, 5.28928086e+00, 1.09133855e+02],\n",
       "       [7.32605058e+00, 2.68502726e+00, 1.96706455e+01],\n",
       "       [3.59366204e+01, 1.36859360e+01, 4.91826285e+02],\n",
       "       [3.33161846e+01, 1.21903170e+01, 4.06134851e+02],\n",
       "       [1.28069099e+01, 2.49885587e+00, 3.20026219e+01],\n",
       "       [2.40899352e+01, 3.04184623e+00, 7.32778786e+01],\n",
       "       [3.74611656e+01, 4.76363046e+00, 1.78451150e+02],\n",
       "       [5.21067947e+01, 1.36859360e+01, 7.13130255e+02],\n",
       "       [4.52869005e+01, 4.50971312e+00, 2.04230930e+02]])"
      ]
     },
     "execution_count": 105,
     "metadata": {},
     "output_type": "execute_result"
    }
   ],
   "source": [
    "inp2_pf"
   ]
  },
  {
   "cell_type": "code",
   "execution_count": 106,
   "metadata": {},
   "outputs": [
    {
     "data": {
      "text/html": [
       "<table class=\"simpletable\">\n",
       "<caption>OLS Regression Results</caption>\n",
       "<tr>\n",
       "  <th>Dep. Variable:</th>          <td>Sales</td>      <th>  R-squared:         </th> <td>   0.983</td> \n",
       "</tr>\n",
       "<tr>\n",
       "  <th>Model:</th>                   <td>OLS</td>       <th>  Adj. R-squared:    </th> <td>   0.982</td> \n",
       "</tr>\n",
       "<tr>\n",
       "  <th>Method:</th>             <td>Least Squares</td>  <th>  F-statistic:       </th> <td>   3718.</td> \n",
       "</tr>\n",
       "<tr>\n",
       "  <th>Date:</th>             <td>Fri, 20 Dec 2019</td> <th>  Prob (F-statistic):</th> <td>2.01e-172</td>\n",
       "</tr>\n",
       "<tr>\n",
       "  <th>Time:</th>                 <td>16:00:34</td>     <th>  Log-Likelihood:    </th> <td> -207.82</td> \n",
       "</tr>\n",
       "<tr>\n",
       "  <th>No. Observations:</th>      <td>   200</td>      <th>  AIC:               </th> <td>   423.6</td> \n",
       "</tr>\n",
       "<tr>\n",
       "  <th>Df Residuals:</th>          <td>   196</td>      <th>  BIC:               </th> <td>   436.8</td> \n",
       "</tr>\n",
       "<tr>\n",
       "  <th>Df Model:</th>              <td>     3</td>      <th>                     </th>     <td> </td>    \n",
       "</tr>\n",
       "<tr>\n",
       "  <th>Covariance Type:</th>      <td>nonrobust</td>    <th>                     </th>     <td> </td>    \n",
       "</tr>\n",
       "</table>\n",
       "<table class=\"simpletable\">\n",
       "<tr>\n",
       "    <td></td>       <th>coef</th>     <th>std err</th>      <th>t</th>      <th>P>|t|</th>  <th>[0.025</th>    <th>0.975]</th>  \n",
       "</tr>\n",
       "<tr>\n",
       "  <th>const</th> <td>    5.9254</td> <td>    0.262</td> <td>   22.621</td> <td> 0.000</td> <td>    5.409</td> <td>    6.442</td>\n",
       "</tr>\n",
       "<tr>\n",
       "  <th>x1</th>    <td>    0.0752</td> <td>    0.008</td> <td>    9.627</td> <td> 0.000</td> <td>    0.060</td> <td>    0.091</td>\n",
       "</tr>\n",
       "<tr>\n",
       "  <th>x2</th>    <td>   -0.0383</td> <td>    0.027</td> <td>   -1.431</td> <td> 0.154</td> <td>   -0.091</td> <td>    0.014</td>\n",
       "</tr>\n",
       "<tr>\n",
       "  <th>x3</th>    <td>    0.0223</td> <td>    0.001</td> <td>   28.447</td> <td> 0.000</td> <td>    0.021</td> <td>    0.024</td>\n",
       "</tr>\n",
       "</table>\n",
       "<table class=\"simpletable\">\n",
       "<tr>\n",
       "  <th>Omnibus:</th>       <td>83.916</td> <th>  Durbin-Watson:     </th> <td>   2.225</td> \n",
       "</tr>\n",
       "<tr>\n",
       "  <th>Prob(Omnibus):</th> <td> 0.000</td> <th>  Jarque-Bera (JB):  </th> <td> 475.627</td> \n",
       "</tr>\n",
       "<tr>\n",
       "  <th>Skew:</th>          <td>-1.498</td> <th>  Prob(JB):          </th> <td>5.24e-104</td>\n",
       "</tr>\n",
       "<tr>\n",
       "  <th>Kurtosis:</th>      <td> 9.936</td> <th>  Cond. No.          </th> <td>1.82e+03</td> \n",
       "</tr>\n",
       "</table><br/><br/>Warnings:<br/>[1] Standard Errors assume that the covariance matrix of the errors is correctly specified.<br/>[2] The condition number is large, 1.82e+03. This might indicate that there are<br/>strong multicollinearity or other numerical problems."
      ],
      "text/plain": [
       "<class 'statsmodels.iolib.summary.Summary'>\n",
       "\"\"\"\n",
       "                            OLS Regression Results                            \n",
       "==============================================================================\n",
       "Dep. Variable:                  Sales   R-squared:                       0.983\n",
       "Model:                            OLS   Adj. R-squared:                  0.982\n",
       "Method:                 Least Squares   F-statistic:                     3718.\n",
       "Date:                Fri, 20 Dec 2019   Prob (F-statistic):          2.01e-172\n",
       "Time:                        16:00:34   Log-Likelihood:                -207.82\n",
       "No. Observations:                 200   AIC:                             423.6\n",
       "Df Residuals:                     196   BIC:                             436.8\n",
       "Df Model:                           3                                         \n",
       "Covariance Type:            nonrobust                                         \n",
       "==============================================================================\n",
       "                 coef    std err          t      P>|t|      [0.025      0.975]\n",
       "------------------------------------------------------------------------------\n",
       "const          5.9254      0.262     22.621      0.000       5.409       6.442\n",
       "x1             0.0752      0.008      9.627      0.000       0.060       0.091\n",
       "x2            -0.0383      0.027     -1.431      0.154      -0.091       0.014\n",
       "x3             0.0223      0.001     28.447      0.000       0.021       0.024\n",
       "==============================================================================\n",
       "Omnibus:                       83.916   Durbin-Watson:                   2.225\n",
       "Prob(Omnibus):                  0.000   Jarque-Bera (JB):              475.627\n",
       "Skew:                          -1.498   Prob(JB):                    5.24e-104\n",
       "Kurtosis:                       9.936   Cond. No.                     1.82e+03\n",
       "==============================================================================\n",
       "\n",
       "Warnings:\n",
       "[1] Standard Errors assume that the covariance matrix of the errors is correctly specified.\n",
       "[2] The condition number is large, 1.82e+03. This might indicate that there are\n",
       "strong multicollinearity or other numerical problems.\n",
       "\"\"\""
      ]
     },
     "execution_count": 106,
     "metadata": {},
     "output_type": "execute_result"
    }
   ],
   "source": [
    "inp_c=sm.add_constant(inp2_pf)\n",
    "ols=sm.OLS(out,inp_c)\n",
    "ols_mod=ols.fit()\n",
    "ols_mod.summary()"
   ]
  },
  {
   "cell_type": "code",
   "execution_count": null,
   "metadata": {},
   "outputs": [],
   "source": []
  }
 ],
 "metadata": {
  "kernelspec": {
   "display_name": "Python 3",
   "language": "python",
   "name": "python3"
  },
  "language_info": {
   "codemirror_mode": {
    "name": "ipython",
    "version": 3
   },
   "file_extension": ".py",
   "mimetype": "text/x-python",
   "name": "python",
   "nbconvert_exporter": "python",
   "pygments_lexer": "ipython3",
   "version": "3.7.3"
  }
 },
 "nbformat": 4,
 "nbformat_minor": 2
}
